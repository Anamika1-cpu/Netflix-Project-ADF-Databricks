{
 "cells": [
  {
   "cell_type": "markdown",
   "metadata": {
    "application/vnd.databricks.v1+cell": {
     "cellMetadata": {},
     "inputWidgets": {},
     "nuid": "a0ad0dcc-e259-4527-a175-3cef44167088",
     "showTitle": false,
     "tableResultSettingsMap": {},
     "title": ""
    }
   },
   "source": [
    "#Array Parameters"
   ]
  },
  {
   "cell_type": "code",
   "execution_count": 0,
   "metadata": {
    "application/vnd.databricks.v1+cell": {
     "cellMetadata": {
      "byteLimit": 2048000,
      "rowLimit": 10000
     },
     "inputWidgets": {},
     "nuid": "4f2d8261-3c5e-4693-aa1d-b12b798d121c",
     "showTitle": false,
     "tableResultSettingsMap": {},
     "title": ""
    }
   },
   "outputs": [],
   "source": [
    "files = [\n",
    "    {\n",
    "        \"sourcefolder\": \"Netflix_cast\",\n",
    "        \"targetfolder\": \"Netflix_cast\"\n",
    "    },\n",
    "    {\n",
    "        \"sourcefolder\": \"Netflix_directors\",\n",
    "        \"targetfolder\": \"Netflix_directors\"\n",
    "    },\n",
    "    {\n",
    "        \"sourcefolder\": \"Netflix_titles\",\n",
    "        \"targetfolder\": \"Netflix_titles\"\n",
    "    },\n",
    "    {\n",
    "        \"sourcefolder\": \"Netflix_countries\",\n",
    "        \"targetfolder\": \"Netflix_countries\"\n",
    "    },\n",
    "    {\n",
    "        \"sourcefolder\": \"Netflix_category\",\n",
    "        \"targetfolder\": \"Netflix_category\"\n",
    "    }\n",
    "]"
   ]
  },
  {
   "cell_type": "markdown",
   "metadata": {
    "application/vnd.databricks.v1+cell": {
     "cellMetadata": {},
     "inputWidgets": {},
     "nuid": "e8f9297a-826e-45ab-aae9-f5fade25d5ed",
     "showTitle": false,
     "tableResultSettingsMap": {},
     "title": ""
    }
   },
   "source": [
    "#Job Utility to to return the Array\n"
   ]
  },
  {
   "cell_type": "code",
   "execution_count": 0,
   "metadata": {
    "application/vnd.databricks.v1+cell": {
     "cellMetadata": {
      "byteLimit": 2048000,
      "rowLimit": 10000
     },
     "inputWidgets": {},
     "nuid": "d920d23f-053f-4e41-b078-00f7576ada93",
     "showTitle": false,
     "tableResultSettingsMap": {},
     "title": ""
    }
   },
   "outputs": [],
   "source": [
    "dbutils.jobs.taskValues.set(key=\"my_arr\",value=files)"
   ]
  }
 ],
 "metadata": {
  "application/vnd.databricks.v1+notebook": {
   "computePreferences": null,
   "dashboards": [],
   "environmentMetadata": {
    "base_environment": "",
    "environment_version": "2"
   },
   "inputWidgetPreferences": null,
   "language": "python",
   "notebookMetadata": {
    "pythonIndentUnit": 4
   },
   "notebookName": "3_Lookup",
   "widgets": {}
  },
  "language_info": {
   "name": "python"
  }
 },
 "nbformat": 4,
 "nbformat_minor": 0
}
