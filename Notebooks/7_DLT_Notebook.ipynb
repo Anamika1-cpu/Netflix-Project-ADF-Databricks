{
 "cells": [
  {
   "cell_type": "markdown",
   "metadata": {
    "application/vnd.databricks.v1+cell": {
     "cellMetadata": {},
     "inputWidgets": {},
     "nuid": "221a48c3-6991-4ed0-ab80-a95ecccc3da1",
     "showTitle": false,
     "tableResultSettingsMap": {},
     "title": ""
    }
   },
   "source": [
    "#DLT Notebook: Gold Layer"
   ]
  },
  {
   "cell_type": "code",
   "execution_count": 0,
   "metadata": {
    "application/vnd.databricks.v1+cell": {
     "cellMetadata": {
      "byteLimit": 2048000,
      "rowLimit": 10000
     },
     "inputWidgets": {},
     "nuid": "16d94876-9775-4eba-a8e9-1d88577886c1",
     "showTitle": false,
     "tableResultSettingsMap": {},
     "title": ""
    }
   },
   "outputs": [],
   "source": [
    "lookuptables_rules={\n",
    "    \"rule1\":\"show_id is NOT NULL\"\n",
    "}"
   ]
  },
  {
   "cell_type": "code",
   "execution_count": 0,
   "metadata": {
    "application/vnd.databricks.v1+cell": {
     "cellMetadata": {
      "byteLimit": 2048000,
      "rowLimit": 10000
     },
     "inputWidgets": {},
     "nuid": "5d64d5b5-1271-4d99-95a0-767c0970c01c",
     "showTitle": false,
     "tableResultSettingsMap": {},
     "title": ""
    }
   },
   "outputs": [],
   "source": [
    "@dlt.table(\n",
    "    name=\"gold_netflixdirectors\"\n",
    ")\n",
    "@dlt.expect_all_or_drop(lookuptables_rules)\n",
    "def myfunc():\n",
    "    df=spark.readStream.format(\"delta\").option(\"inferSchema\", \"true\").load(\"abfss://silver@anamikanetflixdl.dfs.core.windows.net/Netflix_directors\")\n",
    "    return df"
   ]
  },
  {
   "cell_type": "code",
   "execution_count": 0,
   "metadata": {
    "application/vnd.databricks.v1+cell": {
     "cellMetadata": {},
     "inputWidgets": {},
     "nuid": "f15cbcff-6777-475e-b10b-f56cc2ee7afd",
     "showTitle": false,
     "tableResultSettingsMap": {},
     "title": ""
    }
   },
   "outputs": [],
   "source": [
    "@dlt.table(\n",
    "    name=\"gold_netflixcast\"\n",
    ")\n",
    "@dlt.expect_all_or_drop(lookuptables_rules)\n",
    "def myfunc():\n",
    "    df=spark.readStream.format(\"delta\").load(\"abfss://silver@anamikanetflixdl.dfs.core.windows.net/Netflix_cast\")\n",
    "    return df"
   ]
  },
  {
   "cell_type": "code",
   "execution_count": 0,
   "metadata": {
    "application/vnd.databricks.v1+cell": {
     "cellMetadata": {},
     "inputWidgets": {},
     "nuid": "956d5dbb-c305-4af4-b840-5337c5c83c0a",
     "showTitle": false,
     "tableResultSettingsMap": {},
     "title": ""
    }
   },
   "outputs": [],
   "source": [
    "@dlt.table(\n",
    "    name=\"gold_netflixcountries\"\n",
    ")\n",
    "@dlt.expect_all_or_drop(lookuptables_rules)\n",
    "def myfunc():\n",
    "    df=spark.readStream.format(\"delta\").load(\"abfss://silver@anamikanetflixdl.dfs.core.windows.net/Netflix_countries\")\n",
    "    return df"
   ]
  },
  {
   "cell_type": "code",
   "execution_count": 0,
   "metadata": {
    "application/vnd.databricks.v1+cell": {
     "cellMetadata": {},
     "inputWidgets": {},
     "nuid": "5c9fb52d-c6a5-43a9-8495-dc5a920ad055",
     "showTitle": false,
     "tableResultSettingsMap": {},
     "title": ""
    }
   },
   "outputs": [],
   "source": [
    "@dlt.table(\n",
    "    name=\"gold_netflixcategory\"\n",
    ")\n",
    "@dlt.expect_all_or_drop(lookuptables_rules)\n",
    "def myfunc():\n",
    "    df=spark.readStream.format(\"delta\").load(\"abfss://silver@anamikanetflixdl.dfs.core.windows.net/Netflix_category\")\n",
    "    return df"
   ]
  },
  {
   "cell_type": "code",
   "execution_count": 0,
   "metadata": {
    "application/vnd.databricks.v1+cell": {
     "cellMetadata": {},
     "inputWidgets": {},
     "nuid": "6d0ac784-0cc8-4ce7-af33-1de2765b004f",
     "showTitle": false,
     "tableResultSettingsMap": {},
     "title": ""
    }
   },
   "outputs": [],
   "source": [
    "@dlt.table\n",
    "def gold_stg_netflixtitles():\n",
    "    df=spark.readStream.format(\"delta\").load(\"abfss://silver@anamikanetflixdl.dfs.core.windows.net/netflix_titles\")\n",
    "    return df"
   ]
  },
  {
   "cell_type": "code",
   "execution_count": 0,
   "metadata": {
    "application/vnd.databricks.v1+cell": {
     "cellMetadata": {},
     "inputWidgets": {},
     "nuid": "765d37de-ded3-4c7c-af64-becb881193e9",
     "showTitle": false,
     "tableResultSettingsMap": {},
     "title": ""
    }
   },
   "outputs": [],
   "source": [
    "from pyspark.sql.functions import *"
   ]
  },
  {
   "cell_type": "code",
   "execution_count": 0,
   "metadata": {
    "application/vnd.databricks.v1+cell": {
     "cellMetadata": {},
     "inputWidgets": {},
     "nuid": "f41e1ecd-79aa-434c-9d8b-720c41a38748",
     "showTitle": false,
     "tableResultSettingsMap": {},
     "title": ""
    }
   },
   "outputs": [],
   "source": [
    "@dlt.view\n",
    "\n",
    "def gold_trns_netflixtitles():\n",
    "    df = spark.readStream.format(\"delta\").table(\"LIVE.gold_stg_netflixtitles\")\n",
    "    df = df.withColumn(\"newflag\",lit(1))\n",
    "    return df\n"
   ]
  },
  {
   "cell_type": "code",
   "execution_count": 0,
   "metadata": {
    "application/vnd.databricks.v1+cell": {
     "cellMetadata": {},
     "inputWidgets": {},
     "nuid": "35ae2bb8-59f8-42a0-843c-3890717f87eb",
     "showTitle": false,
     "tableResultSettingsMap": {},
     "title": ""
    }
   },
   "outputs": [],
   "source": [
    "masterdata_rules = {\n",
    "    \"rule1\":\"newflag is NOT NULL\",\n",
    "    \"rule2\":\"show_id is NOT NULL\"\n",
    "}"
   ]
  },
  {
   "cell_type": "code",
   "execution_count": 0,
   "metadata": {
    "application/vnd.databricks.v1+cell": {
     "cellMetadata": {},
     "inputWidgets": {},
     "nuid": "3ad90031-cb96-4d56-a358-cc5098cbcbc2",
     "showTitle": false,
     "tableResultSettingsMap": {},
     "title": ""
    }
   },
   "outputs": [],
   "source": [
    "@dlt.table\n",
    "\n",
    "@dlt.expect_all_or_drop(masterdata_rules)\n",
    "def gold_netflixtitles():\n",
    "   df=spark.readStream.table(\"LIVE.gold_trns_netflixtitles\")\n",
    "   return df\n"
   ]
  },
  {
   "cell_type": "code",
   "execution_count": 0,
   "metadata": {
    "application/vnd.databricks.v1+cell": {
     "cellMetadata": {},
     "inputWidgets": {},
     "nuid": "01a073fa-2436-4f4e-b8a0-6dd8c44cbbe4",
     "showTitle": false,
     "tableResultSettingsMap": {},
     "title": ""
    }
   },
   "outputs": [],
   "source": []
  }
 ],
 "metadata": {
  "application/vnd.databricks.v1+notebook": {
   "computePreferences": null,
   "dashboards": [],
   "environmentMetadata": {
    "base_environment": "",
    "environment_version": "2"
   },
   "inputWidgetPreferences": null,
   "language": "python",
   "notebookMetadata": {
    "pythonIndentUnit": 4
   },
   "notebookName": "7_DLT_Notebook",
   "widgets": {}
  },
  "language_info": {
   "name": "python"
  }
 },
 "nbformat": 4,
 "nbformat_minor": 0
}
